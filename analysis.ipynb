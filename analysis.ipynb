{
 "cells": [
  {
   "attachments": {},
   "cell_type": "markdown",
   "metadata": {},
   "source": [
    "Explorando dados"
   ]
  },
  {
   "cell_type": "code",
   "execution_count": 17,
   "metadata": {},
   "outputs": [
    {
     "ename": "KeyboardInterrupt",
     "evalue": "",
     "output_type": "error",
     "traceback": [
      "\u001b[1;31m---------------------------------------------------------------------------\u001b[0m",
      "\u001b[1;31mKeyboardInterrupt\u001b[0m                         Traceback (most recent call last)",
      "Cell \u001b[1;32mIn[17], line 57\u001b[0m\n\u001b[0;32m     54\u001b[0m             time\u001b[39m.\u001b[39msleep(\u001b[39m1\u001b[39m)\n\u001b[0;32m     55\u001b[0m     \u001b[39mreturn\u001b[39;00m Iso\n\u001b[1;32m---> 57\u001b[0m iso \u001b[39m=\u001b[39m acha_iso()\n\u001b[0;32m     58\u001b[0m \u001b[39mprint\u001b[39m(iso)\n",
      "Cell \u001b[1;32mIn[17], line 51\u001b[0m, in \u001b[0;36macha_iso\u001b[1;34m()\u001b[0m\n\u001b[0;32m     49\u001b[0m         \u001b[39melse\u001b[39;00m:\n\u001b[0;32m     50\u001b[0m             rolar_pagina_ate_div()\n\u001b[1;32m---> 51\u001b[0m             time\u001b[39m.\u001b[39msleep(\u001b[39m5\u001b[39m)\n\u001b[0;32m     52\u001b[0m     \u001b[39mbreak\u001b[39;00m\n\u001b[0;32m     53\u001b[0m \u001b[39mexcept\u001b[39;00m StaleElementReferenceException:\n",
      "\u001b[1;31mKeyboardInterrupt\u001b[0m: "
     ]
    }
   ],
   "source": [
    "from selenium import webdriver\n",
    "from selenium.webdriver.common.keys import Keys\n",
    "from selenium.webdriver.common.by import By\n",
    "from selenium.common.exceptions import NoSuchElementException\n",
    "from selenium.common.exceptions import StaleElementReferenceException\n",
    "import time\n",
    "import pandas as pd \n",
    "\n",
    "navegador = webdriver.Chrome()\n",
    "navegador.get('https://www.iso.org/standards.html')\n",
    "\n",
    "search_box = navegador.find_element(By.XPATH, '//*[@id=\"siteSearch\"]/div/input')\n",
    "search_box.send_keys('ISO')\n",
    "search_box.send_keys(Keys.RETURN)\n",
    "time.sleep(10)\n",
    "\n",
    "# Defina uma função para rolar a página até a div com o ID \"pagination\"\n",
    "def rolar_pagina_ate_div():\n",
    "    try:\n",
    "        # Encontre o elemento da div com o ID \"pagination\"\n",
    "        div_paginacao = navegador.find_element(By.ID, 'pagination')\n",
    "        # Role a página até o elemento da div ficar visível\n",
    "        navegador.execute_script(\"arguments[0].scrollIntoView(0, +25);\", div_paginacao)\n",
    "        time.sleep(0.5) # Aguarde meio segundo para permitir que a página carregue\n",
    "    except NoSuchElementException:\n",
    "        print(\"Não foi possível encontrar a div com o ID 'pagination'.\")\n",
    "\n",
    "# Defina uma nova função para encontrar todos os nomes dos padrões ISO na página\n",
    "def acha_iso():\n",
    "    Iso = []\n",
    "    while True:\n",
    "        try:\n",
    "            titulos = navegador.find_elements(By.CLASS_NAME, 'media-body')\n",
    "            for titulo in titulos:\n",
    "                time.sleep(5)\n",
    "                h5 = titulo.find_element(By.CLASS_NAME, 'h5')\n",
    "                firstP = h5.find_element(By.TAG_NAME, 'a')\n",
    "                nome = firstP.get_attribute('title')\n",
    "                Iso.append(nome)\n",
    "                rolar_pagina_ate_div()\n",
    "                time.sleep(5)\n",
    "                # Verifique se o último elemento foi alcançado\n",
    "                ultima_pagina = navegador.find_element(By.XPATH, '//*[@id=\"search-results\"]/div/div[10]/div/div/a')\n",
    "                if 'disabled' in ultima_pagina.get_attribute('class'):\n",
    "                    break\n",
    "                else:\n",
    "                    time.sleep(1)\n",
    "            break\n",
    "        except StaleElementReferenceException:\n",
    "            time.sleep(1)\n",
    "    return Iso\n",
    "\n",
    "iso = acha_iso()\n",
    "print(iso)\n"
   ]
  },
  {
   "attachments": {},
   "cell_type": "markdown",
   "metadata": {},
   "source": [
    "procura os titulos e salva"
   ]
  },
  {
   "cell_type": "code",
   "execution_count": 46,
   "metadata": {},
   "outputs": [
    {
     "ename": "NoSuchWindowException",
     "evalue": "Message: no such window: target window already closed\nfrom unknown error: web view not found\n  (Session info: chrome=112.0.5615.50)\nStacktrace:\nBacktrace:\n\tGetHandleVerifier [0x003DDCE3+50899]\n\t(No symbol) [0x0036E111]\n\t(No symbol) [0x00275588]\n\t(No symbol) [0x0025D333]\n\t(No symbol) [0x002BF4DB]\n\t(No symbol) [0x002CDB33]\n\t(No symbol) [0x002BB6F6]\n\t(No symbol) [0x00297708]\n\t(No symbol) [0x0029886D]\n\tGetHandleVerifier [0x00643EAE+2566302]\n\tGetHandleVerifier [0x006792B1+2784417]\n\tGetHandleVerifier [0x0067327C+2759788]\n\tGetHandleVerifier [0x00475740+672048]\n\t(No symbol) [0x00378872]\n\t(No symbol) [0x003741C8]\n\t(No symbol) [0x003742AB]\n\t(No symbol) [0x003671B7]\n\tBaseThreadInitThunk [0x759B6739+25]\n\tRtlGetFullPathName_UEx [0x77288ACF+1215]\n\tRtlGetFullPathName_UEx [0x77288A9D+1165]\n",
     "output_type": "error",
     "traceback": [
      "\u001b[1;31m---------------------------------------------------------------------------\u001b[0m",
      "\u001b[1;31mNoSuchWindowException\u001b[0m                     Traceback (most recent call last)",
      "Cell \u001b[1;32mIn[46], line 24\u001b[0m\n\u001b[0;32m     20\u001b[0m         navegador\u001b[39m.\u001b[39mexecute_script(\u001b[39m\"\u001b[39m\u001b[39marguments[0].click();\u001b[39m\u001b[39m\"\u001b[39m, tag)\n\u001b[0;32m     21\u001b[0m     \u001b[39mreturn\u001b[39;00m Iso\n\u001b[1;32m---> 24\u001b[0m iso \u001b[39m=\u001b[39m prox_pagina()\n\u001b[0;32m     25\u001b[0m \u001b[39mprint\u001b[39m(iso)\n",
      "Cell \u001b[1;32mIn[46], line 13\u001b[0m, in \u001b[0;36mprox_pagina\u001b[1;34m()\u001b[0m\n\u001b[0;32m     11\u001b[0m \u001b[39mdef\u001b[39;00m \u001b[39mprox_pagina\u001b[39m():\n\u001b[0;32m     12\u001b[0m     Iso \u001b[39m=\u001b[39m []\n\u001b[1;32m---> 13\u001b[0m     paginas \u001b[39m=\u001b[39m navegador\u001b[39m.\u001b[39;49mfind_elements(By\u001b[39m.\u001b[39;49mCLASS_NAME, \u001b[39m'\u001b[39;49m\u001b[39mpagination\u001b[39;49m\u001b[39m'\u001b[39;49m)\n\u001b[0;32m     14\u001b[0m     \u001b[39mfor\u001b[39;00m pagina \u001b[39min\u001b[39;00m paginas:\n\u001b[0;32m     15\u001b[0m         Iso \u001b[39m+\u001b[39m\u001b[39m=\u001b[39m acha_iso()\n",
      "File \u001b[1;32m~\\AppData\\Local\\Packages\\PythonSoftwareFoundation.Python.3.11_qbz5n2kfra8p0\\LocalCache\\local-packages\\Python311\\site-packages\\selenium\\webdriver\\remote\\webdriver.py:861\u001b[0m, in \u001b[0;36mWebDriver.find_elements\u001b[1;34m(self, by, value)\u001b[0m\n\u001b[0;32m    857\u001b[0m     value \u001b[39m=\u001b[39m \u001b[39mf\u001b[39m\u001b[39m'\u001b[39m\u001b[39m[name=\u001b[39m\u001b[39m\"\u001b[39m\u001b[39m{\u001b[39;00mvalue\u001b[39m}\u001b[39;00m\u001b[39m\"\u001b[39m\u001b[39m]\u001b[39m\u001b[39m'\u001b[39m\n\u001b[0;32m    859\u001b[0m \u001b[39m# Return empty list if driver returns null\u001b[39;00m\n\u001b[0;32m    860\u001b[0m \u001b[39m# See https://github.com/SeleniumHQ/selenium/issues/4555\u001b[39;00m\n\u001b[1;32m--> 861\u001b[0m \u001b[39mreturn\u001b[39;00m \u001b[39mself\u001b[39;49m\u001b[39m.\u001b[39;49mexecute(Command\u001b[39m.\u001b[39;49mFIND_ELEMENTS, {\u001b[39m\"\u001b[39;49m\u001b[39musing\u001b[39;49m\u001b[39m\"\u001b[39;49m: by, \u001b[39m\"\u001b[39;49m\u001b[39mvalue\u001b[39;49m\u001b[39m\"\u001b[39;49m: value})[\u001b[39m\"\u001b[39m\u001b[39mvalue\u001b[39m\u001b[39m\"\u001b[39m] \u001b[39mor\u001b[39;00m []\n",
      "File \u001b[1;32m~\\AppData\\Local\\Packages\\PythonSoftwareFoundation.Python.3.11_qbz5n2kfra8p0\\LocalCache\\local-packages\\Python311\\site-packages\\selenium\\webdriver\\remote\\webdriver.py:440\u001b[0m, in \u001b[0;36mWebDriver.execute\u001b[1;34m(self, driver_command, params)\u001b[0m\n\u001b[0;32m    438\u001b[0m response \u001b[39m=\u001b[39m \u001b[39mself\u001b[39m\u001b[39m.\u001b[39mcommand_executor\u001b[39m.\u001b[39mexecute(driver_command, params)\n\u001b[0;32m    439\u001b[0m \u001b[39mif\u001b[39;00m response:\n\u001b[1;32m--> 440\u001b[0m     \u001b[39mself\u001b[39;49m\u001b[39m.\u001b[39;49merror_handler\u001b[39m.\u001b[39;49mcheck_response(response)\n\u001b[0;32m    441\u001b[0m     response[\u001b[39m\"\u001b[39m\u001b[39mvalue\u001b[39m\u001b[39m\"\u001b[39m] \u001b[39m=\u001b[39m \u001b[39mself\u001b[39m\u001b[39m.\u001b[39m_unwrap_value(response\u001b[39m.\u001b[39mget(\u001b[39m\"\u001b[39m\u001b[39mvalue\u001b[39m\u001b[39m\"\u001b[39m, \u001b[39mNone\u001b[39;00m))\n\u001b[0;32m    442\u001b[0m     \u001b[39mreturn\u001b[39;00m response\n",
      "File \u001b[1;32m~\\AppData\\Local\\Packages\\PythonSoftwareFoundation.Python.3.11_qbz5n2kfra8p0\\LocalCache\\local-packages\\Python311\\site-packages\\selenium\\webdriver\\remote\\errorhandler.py:245\u001b[0m, in \u001b[0;36mErrorHandler.check_response\u001b[1;34m(self, response)\u001b[0m\n\u001b[0;32m    243\u001b[0m         alert_text \u001b[39m=\u001b[39m value[\u001b[39m\"\u001b[39m\u001b[39malert\u001b[39m\u001b[39m\"\u001b[39m]\u001b[39m.\u001b[39mget(\u001b[39m\"\u001b[39m\u001b[39mtext\u001b[39m\u001b[39m\"\u001b[39m)\n\u001b[0;32m    244\u001b[0m     \u001b[39mraise\u001b[39;00m exception_class(message, screen, stacktrace, alert_text)  \u001b[39m# type: ignore[call-arg]  # mypy is not smart enough here\u001b[39;00m\n\u001b[1;32m--> 245\u001b[0m \u001b[39mraise\u001b[39;00m exception_class(message, screen, stacktrace)\n",
      "\u001b[1;31mNoSuchWindowException\u001b[0m: Message: no such window: target window already closed\nfrom unknown error: web view not found\n  (Session info: chrome=112.0.5615.50)\nStacktrace:\nBacktrace:\n\tGetHandleVerifier [0x003DDCE3+50899]\n\t(No symbol) [0x0036E111]\n\t(No symbol) [0x00275588]\n\t(No symbol) [0x0025D333]\n\t(No symbol) [0x002BF4DB]\n\t(No symbol) [0x002CDB33]\n\t(No symbol) [0x002BB6F6]\n\t(No symbol) [0x00297708]\n\t(No symbol) [0x0029886D]\n\tGetHandleVerifier [0x00643EAE+2566302]\n\tGetHandleVerifier [0x006792B1+2784417]\n\tGetHandleVerifier [0x0067327C+2759788]\n\tGetHandleVerifier [0x00475740+672048]\n\t(No symbol) [0x00378872]\n\t(No symbol) [0x003741C8]\n\t(No symbol) [0x003742AB]\n\t(No symbol) [0x003671B7]\n\tBaseThreadInitThunk [0x759B6739+25]\n\tRtlGetFullPathName_UEx [0x77288ACF+1215]\n\tRtlGetFullPathName_UEx [0x77288A9D+1165]\n"
     ]
    }
   ],
   "source": [
    "def acha_iso():\n",
    "    titulos = navegador.find_elements(By.CLASS_NAME, 'media-body')\n",
    "    Iso = []\n",
    "    for titulo in titulos:\n",
    "        h5 = titulo.find_element(By.CLASS_NAME, 'h5')\n",
    "        firstP = h5.find_element(By.TAG_NAME, 'a')\n",
    "        nome = firstP.get_attribute('title')\n",
    "        Iso.append(nome)\n",
    "    return Iso\n",
    "\n",
    "def prox_pagina():\n",
    "    Iso = []\n",
    "    paginas = navegador.find_elements(By.CLASS_NAME, 'pagination')\n",
    "    for pagina in paginas:\n",
    "        Iso += acha_iso()\n",
    "        page = pagina.find_element(By.CLASS_NAME, 'page-item ')\n",
    "        link = page.find_element(By.CLASS_NAME, 'page-link')\n",
    "        tag = link.find_element(By.CLASS_NAME, 'bi-chevron-right')\n",
    "        WebDriverWait(navegador, 10).until(EC.visibility_of(tag))\n",
    "        navegador.execute_script(\"arguments[0].click();\", tag)\n",
    "    return Iso\n",
    "\n",
    "\n",
    "iso = prox_pagina()\n",
    "print(iso)"
   ]
  },
  {
   "cell_type": "code",
   "execution_count": 47,
   "metadata": {},
   "outputs": [],
   "source": [
    "\n"
   ]
  }
 ],
 "metadata": {
  "kernelspec": {
   "display_name": "Python 3",
   "language": "python",
   "name": "python3"
  },
  "language_info": {
   "codemirror_mode": {
    "name": "ipython",
    "version": 3
   },
   "file_extension": ".py",
   "mimetype": "text/x-python",
   "name": "python",
   "nbconvert_exporter": "python",
   "pygments_lexer": "ipython3",
   "version": "3.11.2"
  },
  "orig_nbformat": 4
 },
 "nbformat": 4,
 "nbformat_minor": 2
}
