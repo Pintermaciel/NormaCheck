{
 "cells": [
  {
   "attachments": {},
   "cell_type": "markdown",
   "metadata": {},
   "source": [
    "Explorando dados"
   ]
  },
  {
   "cell_type": "code",
   "execution_count": 25,
   "metadata": {},
   "outputs": [],
   "source": [
    "from selenium import webdriver\n",
    "from selenium.webdriver.common.keys import Keys\n",
    "from selenium.webdriver.common.by import By\n",
    "from selenium.common.exceptions import StaleElementReferenceException\n",
    "from selenium.webdriver.support.ui import WebDriverWait\n",
    "from selenium.webdriver.support import expected_conditions as EC\n",
    "import pandas as pd \n",
    "\n",
    "navegador = webdriver.Chrome()\n",
    "navegador.get('https://www.iso.org/obp/ui/en/')\n",
    "wait = WebDriverWait(navegador, 10)\n",
    "\n",
    "filtro_div = wait.until(EC.presence_of_element_located((By.CLASS_NAME, \"v-select-optiongroup-xmltype\")))\n",
    "standards_input = filtro_div.find_element(By.XPATH, \"//label[text()='Standards']/preceding-sibling::input\")\n",
    "standards_input.click()\n",
    "\n",
    "\n",
    "search_box = navegador.find_element(By.XPATH, '//*[@id=\"obpui-105541713\"]/div/div[2]/div/div/div[2]/div/div/div[2]/div/div/div/div/div/div[2]/div/div[2]/div/div[2]/div/div/div[2]/input')\n",
    "search_box.send_keys('')\n",
    "search_box.send_keys(Keys.RETURN)\n",
    "wait\n",
    "\n",
    "wait.until(EC.presence_of_element_located((By.CLASS_NAME, \"v-label-std-title\")))\n",
    "\n",
    "def acha_titulos():\n",
    "    titulos = {}\n",
    "    while True:\n",
    "        std_refs = navegador.find_elements(By.CLASS_NAME, \"v-label-std-ref\")\n",
    "        std_titles = navegador.find_elements(By.CLASS_NAME, \"v-label-std-title\")\n",
    "        for i in range(len(std_refs)):\n",
    "            titulo = std_titles[i].text\n",
    "            ref = std_refs[i].text\n",
    "            titulos[ref] = titulo\n",
    "        \n",
    "        try:\n",
    "            next_button = navegador.find_element(By.XPATH, \"//div[@class='v-button v-widget i-paging v-button-i-paging last v-button-last']\")\n",
    "            if next_button.get_attribute(\"class\") == \"v-button v-widget i-paging v-button-i-paging last v-button-last v-disabled\":\n",
    "                break\n",
    "            next_button.click()\n",
    "            wait.until(EC.staleness_of(std_refs[-1]))\n",
    "        except:\n",
    "            break\n",
    "            \n",
    "    return titulos\n",
    "\n",
    "\n",
    "titulos = acha_titulos()\n",
    "print(titulos)\n",
    "titulos.to_csv(\"titulos.csv\", index=False)"
   ]
  },
  {
   "attachments": {},
   "cell_type": "markdown",
   "metadata": {},
   "source": [
    "procura os titulos e salva"
   ]
  },
  {
   "cell_type": "code",
   "execution_count": null,
   "metadata": {},
   "outputs": [
    {
     "ename": "ValueError",
     "evalue": "Columns must be same length as key",
     "output_type": "error",
     "traceback": [
      "\u001b[1;31m---------------------------------------------------------------------------\u001b[0m",
      "\u001b[1;31mValueError\u001b[0m                                Traceback (most recent call last)",
      "Cell \u001b[1;32mIn[23], line 8\u001b[0m\n\u001b[0;32m      6\u001b[0m df \u001b[39m=\u001b[39m df\u001b[39m.\u001b[39mrename_axis(\u001b[39m'\u001b[39m\u001b[39mcodigo_idioma\u001b[39m\u001b[39m'\u001b[39m)\u001b[39m.\u001b[39mreset_index()\n\u001b[0;32m      7\u001b[0m df[[\u001b[39m'\u001b[39m\u001b[39mcodigo\u001b[39m\u001b[39m'\u001b[39m, \u001b[39m'\u001b[39m\u001b[39midioma\u001b[39m\u001b[39m'\u001b[39m]] \u001b[39m=\u001b[39m df[\u001b[39m'\u001b[39m\u001b[39mcodigo_idioma\u001b[39m\u001b[39m'\u001b[39m]\u001b[39m.\u001b[39mstr\u001b[39m.\u001b[39msplit(\u001b[39m'\u001b[39m\u001b[39m:\u001b[39m\u001b[39m'\u001b[39m, expand\u001b[39m=\u001b[39m\u001b[39mTrue\u001b[39;00m)\n\u001b[1;32m----> 8\u001b[0m df[[\u001b[39m'\u001b[39;49m\u001b[39mcoluna1\u001b[39;49m\u001b[39m'\u001b[39;49m, \u001b[39m'\u001b[39;49m\u001b[39mcoluna2\u001b[39;49m\u001b[39m'\u001b[39;49m, \u001b[39m'\u001b[39;49m\u001b[39mcoluna3\u001b[39;49m\u001b[39m'\u001b[39;49m]] \u001b[39m=\u001b[39m df[\u001b[39m'\u001b[39m\u001b[39mcodigo\u001b[39m\u001b[39m'\u001b[39m]\u001b[39m.\u001b[39mstr\u001b[39m.\u001b[39msplit(\u001b[39m'\u001b[39m\u001b[39m(\u001b[39m\u001b[39m'\u001b[39m, expand\u001b[39m=\u001b[39m\u001b[39mTrue\u001b[39;00m)\n\u001b[0;32m      9\u001b[0m df[\u001b[39m'\u001b[39m\u001b[39mcoluna3\u001b[39m\u001b[39m'\u001b[39m] \u001b[39m=\u001b[39m \u001b[39m'\u001b[39m\u001b[39m(\u001b[39m\u001b[39m'\u001b[39m \u001b[39m+\u001b[39m df[\u001b[39m'\u001b[39m\u001b[39mcoluna3\u001b[39m\u001b[39m'\u001b[39m]  \u001b[39m# Adiciona o parêntese de volta à coluna3\u001b[39;00m\n\u001b[0;32m     10\u001b[0m df \u001b[39m=\u001b[39m df[[\u001b[39m'\u001b[39m\u001b[39mcoluna1\u001b[39m\u001b[39m'\u001b[39m, \u001b[39m'\u001b[39m\u001b[39mcoluna2\u001b[39m\u001b[39m'\u001b[39m, \u001b[39m'\u001b[39m\u001b[39mcoluna3\u001b[39m\u001b[39m'\u001b[39m, \u001b[39m'\u001b[39m\u001b[39mdescricao\u001b[39m\u001b[39m'\u001b[39m]]\n",
      "File \u001b[1;32m~\\AppData\\Local\\Packages\\PythonSoftwareFoundation.Python.3.11_qbz5n2kfra8p0\\LocalCache\\local-packages\\Python311\\site-packages\\pandas\\core\\frame.py:3968\u001b[0m, in \u001b[0;36mDataFrame.__setitem__\u001b[1;34m(self, key, value)\u001b[0m\n\u001b[0;32m   3966\u001b[0m     \u001b[39mself\u001b[39m\u001b[39m.\u001b[39m_setitem_frame(key, value)\n\u001b[0;32m   3967\u001b[0m \u001b[39melif\u001b[39;00m \u001b[39misinstance\u001b[39m(key, (Series, np\u001b[39m.\u001b[39mndarray, \u001b[39mlist\u001b[39m, Index)):\n\u001b[1;32m-> 3968\u001b[0m     \u001b[39mself\u001b[39;49m\u001b[39m.\u001b[39;49m_setitem_array(key, value)\n\u001b[0;32m   3969\u001b[0m \u001b[39melif\u001b[39;00m \u001b[39misinstance\u001b[39m(value, DataFrame):\n\u001b[0;32m   3970\u001b[0m     \u001b[39mself\u001b[39m\u001b[39m.\u001b[39m_set_item_frame_value(key, value)\n",
      "File \u001b[1;32m~\\AppData\\Local\\Packages\\PythonSoftwareFoundation.Python.3.11_qbz5n2kfra8p0\\LocalCache\\local-packages\\Python311\\site-packages\\pandas\\core\\frame.py:4010\u001b[0m, in \u001b[0;36mDataFrame._setitem_array\u001b[1;34m(self, key, value)\u001b[0m\n\u001b[0;32m   4005\u001b[0m \u001b[39melse\u001b[39;00m:\n\u001b[0;32m   4006\u001b[0m     \u001b[39m# Note: unlike self.iloc[:, indexer] = value, this will\u001b[39;00m\n\u001b[0;32m   4007\u001b[0m     \u001b[39m#  never try to overwrite values inplace\u001b[39;00m\n\u001b[0;32m   4009\u001b[0m     \u001b[39mif\u001b[39;00m \u001b[39misinstance\u001b[39m(value, DataFrame):\n\u001b[1;32m-> 4010\u001b[0m         check_key_length(\u001b[39mself\u001b[39;49m\u001b[39m.\u001b[39;49mcolumns, key, value)\n\u001b[0;32m   4011\u001b[0m         \u001b[39mfor\u001b[39;00m k1, k2 \u001b[39min\u001b[39;00m \u001b[39mzip\u001b[39m(key, value\u001b[39m.\u001b[39mcolumns):\n\u001b[0;32m   4012\u001b[0m             \u001b[39mself\u001b[39m[k1] \u001b[39m=\u001b[39m value[k2]\n",
      "File \u001b[1;32m~\\AppData\\Local\\Packages\\PythonSoftwareFoundation.Python.3.11_qbz5n2kfra8p0\\LocalCache\\local-packages\\Python311\\site-packages\\pandas\\core\\indexers\\utils.py:401\u001b[0m, in \u001b[0;36mcheck_key_length\u001b[1;34m(columns, key, value)\u001b[0m\n\u001b[0;32m    399\u001b[0m \u001b[39mif\u001b[39;00m columns\u001b[39m.\u001b[39mis_unique:\n\u001b[0;32m    400\u001b[0m     \u001b[39mif\u001b[39;00m \u001b[39mlen\u001b[39m(value\u001b[39m.\u001b[39mcolumns) \u001b[39m!=\u001b[39m \u001b[39mlen\u001b[39m(key):\n\u001b[1;32m--> 401\u001b[0m         \u001b[39mraise\u001b[39;00m \u001b[39mValueError\u001b[39;00m(\u001b[39m\"\u001b[39m\u001b[39mColumns must be same length as key\u001b[39m\u001b[39m\"\u001b[39m)\n\u001b[0;32m    402\u001b[0m \u001b[39melse\u001b[39;00m:\n\u001b[0;32m    403\u001b[0m     \u001b[39m# Missing keys in columns are represented as -1\u001b[39;00m\n\u001b[0;32m    404\u001b[0m     \u001b[39mif\u001b[39;00m \u001b[39mlen\u001b[39m(columns\u001b[39m.\u001b[39mget_indexer_non_unique(key)[\u001b[39m0\u001b[39m]) \u001b[39m!=\u001b[39m \u001b[39mlen\u001b[39m(value\u001b[39m.\u001b[39mcolumns):\n",
      "\u001b[1;31mValueError\u001b[0m: Columns must be same length as key"
     ]
    }
   ],
   "source": [
    "df = pd.DataFrame.from_dict(titulos, orient='index', columns=['descricao'])\n",
    "df = df.explode()\n",
    "df = df.reset_index()\n",
    "df[['coluna1', 'coluna2', 'coluna3']] = df['index'].str.split(':', expand=True)\n",
    "df[['coluna2', 'coluna3']] = df['coluna2'].str.split('(', expand=True)\n",
    "df['coluna3'] = '(' + df['coluna3'] \n",
    "df = df[['coluna1', 'coluna2', 'coluna3', 'descricao']]\n",
    "df = df.rename(columns={'coluna1': 'ISO', 'coluna2': 'VERSAO', 'coluna3': 'IDIOMA', 'descricao': 'DESCRICAO'})\n",
    "\n",
    "print(df)\n",
    "df.to_csv(\"iso.csv\", index=False)"
   ]
  },
  {
   "cell_type": "code",
   "execution_count": 16,
   "metadata": {},
   "outputs": [
    {
     "data": {
      "text/html": [
       "<div>\n",
       "<style scoped>\n",
       "    .dataframe tbody tr th:only-of-type {\n",
       "        vertical-align: middle;\n",
       "    }\n",
       "\n",
       "    .dataframe tbody tr th {\n",
       "        vertical-align: top;\n",
       "    }\n",
       "\n",
       "    .dataframe thead th {\n",
       "        text-align: right;\n",
       "    }\n",
       "</style>\n",
       "<table border=\"1\" class=\"dataframe\">\n",
       "  <thead>\n",
       "    <tr style=\"text-align: right;\">\n",
       "      <th></th>\n",
       "      <th>ISO</th>\n",
       "      <th>Título</th>\n",
       "    </tr>\n",
       "  </thead>\n",
       "  <tbody>\n",
       "  </tbody>\n",
       "</table>\n",
       "</div>"
      ],
      "text/plain": [
       "Empty DataFrame\n",
       "Columns: [ISO, Título]\n",
       "Index: []"
      ]
     },
     "execution_count": 16,
     "metadata": {},
     "output_type": "execute_result"
    }
   ],
   "source": [
    "df\n"
   ]
  }
 ],
 "metadata": {
  "kernelspec": {
   "display_name": "Python 3",
   "language": "python",
   "name": "python3"
  },
  "language_info": {
   "codemirror_mode": {
    "name": "ipython",
    "version": 3
   },
   "file_extension": ".py",
   "mimetype": "text/x-python",
   "name": "python",
   "nbconvert_exporter": "python",
   "pygments_lexer": "ipython3",
   "version": "3.11.3"
  },
  "orig_nbformat": 4
 },
 "nbformat": 4,
 "nbformat_minor": 2
}
