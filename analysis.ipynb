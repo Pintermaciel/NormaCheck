{
 "cells": [
  {
   "attachments": {},
   "cell_type": "markdown",
   "metadata": {},
   "source": [
    "Explorando dados"
   ]
  },
  {
   "cell_type": "code",
   "execution_count": 38,
   "metadata": {},
   "outputs": [],
   "source": [
    "from selenium import webdriver\n",
    "from selenium.webdriver.common.keys import Keys\n",
    "from selenium.webdriver.common.by import By\n",
    "from selenium.webdriver.support.ui import WebDriverWait\n",
    "from selenium.webdriver.support import expected_conditions as EC\n",
    "import time\n",
    "\n",
    "navegador = webdriver.Chrome()\n",
    "navegador.get('https://www.iso.org/standards.html')\n",
    "\n",
    "search_box = navegador.find_element(By.XPATH, '//*[@id=\"siteSearch\"]/div/input')\n",
    "search_box.send_keys('ISO')\n",
    "search_box.send_keys(Keys.RETURN)\n",
    "time.sleep(10)"
   ]
  },
  {
   "attachments": {},
   "cell_type": "markdown",
   "metadata": {},
   "source": [
    "procura os titulos e salva"
   ]
  },
  {
   "cell_type": "code",
   "execution_count": 42,
   "metadata": {},
   "outputs": [
    {
     "name": "stdout",
     "output_type": "stream",
     "text": [
      "['ISO 4197:1989 Equipment for working the soil — Hoe blades — Fixing dimensions', 'ISO 4186:1980 Asparagus — Guide to storage', 'ISO 4178:1980 Complete, filled transport packages — Distribution trials — Information to be recorded', 'ISO 4132:1979 Unplasticized polyvinyl chloride (PVC) and metal adaptor fittings for pipes under pressure — Laying lengths and size of threads — Metric series', 'ISO 4072:1982 Green coffee in bags — Sampling', 'ISO 4038:1996 Road vehicles — Hydraulic braking systems — Simple flare pipes, tapped holes, male fittings and hose end fittings', 'ISO 4021:1992 Hydraulic fluid power — Particulate contamination analysis — Extraction of fluid samples from lines of an operating system', 'ISO 3974:1977 Definitions of living animals for slaughter — Ovines', 'ISO 3970:1977 Modular units for machine tool construction — Integral way columns — Floor-mounted type', 'ISO 3965:1990 Agricultural wheeled tractors — Maximum speeds — Method of determination']\n"
     ]
    }
   ],
   "source": [
    "def acha_iso():\n",
    "    titulos = navegador.find_elements(By.CLASS_NAME, 'media-body')\n",
    "    Iso = []\n",
    "    for titulo in titulos:\n",
    "        h5 = titulo.find_element(By.CLASS_NAME, 'h5')\n",
    "        firstP = h5.find_element(By.TAG_NAME, 'a')\n",
    "        nome = firstP.get_attribute('title')\n",
    "        Iso.append(nome)\n",
    "    return Iso\n",
    "\n",
    "def prox_pagina():\n",
    "    Iso = []\n",
    "    paginas = navegador.find_elements(By.CLASS_NAME, 'pagination')\n",
    "    for pagina in paginas:\n",
    "        Iso += acha_iso()\n",
    "        page = pagina.find_element(By.CLASS_NAME, 'page-item ')\n",
    "        link = page.find_element(By.CLASS_NAME, 'page-link')\n",
    "        tag = link.find_element(By.CLASS_NAME, 'bi-chevron-right')\n",
    "        WebDriverWait(navegador, 10).until(EC.visibility_of(tag))\n",
    "        navegador.execute_script(\"arguments[0].click();\", tag)\n",
    "    return Iso\n",
    "\n",
    "\n",
    "iso = prox_pagina()\n",
    "print(iso)"
   ]
  },
  {
   "cell_type": "code",
   "execution_count": null,
   "metadata": {},
   "outputs": [],
   "source": []
  }
 ],
 "metadata": {
  "kernelspec": {
   "display_name": "Python 3",
   "language": "python",
   "name": "python3"
  },
  "language_info": {
   "codemirror_mode": {
    "name": "ipython",
    "version": 3
   },
   "file_extension": ".py",
   "mimetype": "text/x-python",
   "name": "python",
   "nbconvert_exporter": "python",
   "pygments_lexer": "ipython3",
   "version": "3.11.2"
  },
  "orig_nbformat": 4
 },
 "nbformat": 4,
 "nbformat_minor": 2
}
