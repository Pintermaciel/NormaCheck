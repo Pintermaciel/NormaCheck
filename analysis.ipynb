{
 "cells": [
  {
   "attachments": {},
   "cell_type": "markdown",
   "metadata": {},
   "source": [
    "Explorando dados"
   ]
  },
  {
   "cell_type": "code",
   "execution_count": 70,
   "metadata": {},
   "outputs": [],
   "source": [
    "from selenium import webdriver\n",
    "from selenium.webdriver.common.keys import Keys\n",
    "from selenium.webdriver.common.by import By\n",
    "from selenium.webdriver.support.ui import WebDriverWait\n",
    "from selenium.webdriver.support import expected_conditions as EC\n",
    "from selenium.webdriver.chrome.options import Options\n",
    "import pandas as pd \n",
    "\n",
    "options = Options()\n",
    "options.add_argument('--headless')\n",
    "options.add_argument('--disable-gpu')\n",
    "\n",
    "navegador = webdriver.Chrome(options=options)\n",
    "navegador.get('https://www.iso.org/obp/ui/en/')\n",
    "wait = WebDriverWait(navegador, 10)\n",
    "\n",
    "filtro_div = wait.until(EC.presence_of_element_located((By.CLASS_NAME, \"v-select-optiongroup-xmltype\")))\n",
    "standards_input = filtro_div.find_element(By.XPATH, \"//label[text()='Standards']/preceding-sibling::input\")\n",
    "standards_input.click()\n",
    "\n",
    "\n",
    "search_box = navegador.find_element(By.XPATH, '//*[@id=\"obpui-105541713\"]/div/div[2]/div/div/div[2]/div/div/div[2]/div/div/div/div/div/div[2]/div/div[2]/div/div[2]/div/div/div[2]/input')\n",
    "search_box.send_keys('')\n",
    "search_box.send_keys(Keys.RETURN)\n",
    "wait\n",
    "\n",
    "wait.until(EC.presence_of_element_located((By.CLASS_NAME, \"v-label-std-title\")))\n",
    "\n",
    "def acha_titulos():\n",
    "    titulos = {}\n",
    "    while True:\n",
    "        wait.until(EC.presence_of_element_located((By.CLASS_NAME, \"v-label-std-title\")))\n",
    "        std_refs = navegador.find_elements(By.CLASS_NAME, \"v-label-std-ref\")\n",
    "        std_titles = navegador.find_elements(By.CLASS_NAME, \"v-label-std-title\")\n",
    "        for i in range(len(std_refs)):\n",
    "            titulo = std_titles[i].text\n",
    "            ref = std_refs[i].text\n",
    "            titulos[ref] = titulo\n",
    "        \n",
    "        try:\n",
    "            wait.until(EC.presence_of_element_located((By.CLASS_NAME, \"v-label-std-title\")))\n",
    "            next_button = navegador.find_element(By.XPATH, \"//div[@class='v-button v-widget i-paging v-button-i-paging last v-button-last']\")\n",
    "            if next_button.get_attribute(\"class\") == \"v-button v-widget i-paging v-button-i-paging last v-button-last v-disabled\":\n",
    "                break\n",
    "            next_button.click()\n",
    "            wait.until(EC.staleness_of(std_refs[-1]))\n",
    "        except:\n",
    "            break\n",
    "            \n",
    "    return titulos\n",
    "\n",
    "\n",
    "titulos = acha_titulos()\n",
    "titulos.to_csv(\"iso.csv\")\n",
    "df = pd.read_csv(\"iso.csv\")\n",
    "df = df.explode('chave')\n",
    "df = df.fillna('')\n",
    "df[['ISO', 'VERSAO']] = df['chave'].str.split(':', expand=True)\n",
    "df[['colunaex','IDIOMA']] = df['chave'].str.split('(', expand=True)\n",
    "df['ISO'] = df['ISO'].str.split('(', n=1).str.get(0)\n",
    "df['VERSAO'] = df['VERSAO'].str.split('(', n=1).str.get(0)\n",
    "df['IDIOMA'] = df['IDIOMA'].str.split(')', n=1).str.get(0)\n",
    "df = df.drop('chave', axis=1)\n",
    "df = df.drop('colunaex', axis=1)\n",
    "df\n",
    "df.to_csv(\"iso.csv\", sep=\";\", index=False)"
   ]
  },
  {
   "attachments": {},
   "cell_type": "markdown",
   "metadata": {},
   "source": [
    "procura os titulos e salva"
   ]
  },
  {
   "cell_type": "code",
   "execution_count": 67,
   "metadata": {},
   "outputs": [
    {
     "ename": "SyntaxError",
     "evalue": "invalid syntax. Perhaps you forgot a comma? (4073626262.py, line 11)",
     "output_type": "error",
     "traceback": [
      "\u001b[1;36m  Cell \u001b[1;32mIn[67], line 11\u001b[1;36m\u001b[0m\n\u001b[1;33m    df.to_csv(\"iso.csv\", sep =\";\" index=False)\u001b[0m\n\u001b[1;37m                              ^\u001b[0m\n\u001b[1;31mSyntaxError\u001b[0m\u001b[1;31m:\u001b[0m invalid syntax. Perhaps you forgot a comma?\n"
     ]
    }
   ],
   "source": [
    "df = pd.DataFrame.from_dict(titulos, orient='index', columns=['descricao'])\n",
    "df = df.reset_index().rename(columns={'index': 'chave'})\n",
    "df = df.explode('chave')\n",
    "df[['coluna1', 'coluna2', 'coluna3']] = df['chave'].str.split(':', expand=True)\n",
    "df[['coluna2', 'coluna3']] = df['coluna2'].str.split('(', expand=True)\n",
    "df['coluna3'] = '(' + df['coluna3'] \n",
    "df = df[['coluna1', 'coluna2', 'coluna3', 'descricao']]\n",
    "df = df.rename(columns={'coluna1': 'ISO', 'coluna2': 'VERSAO', 'coluna3': 'IDIOMA', 'descricao': 'DESCRICAO'})\n",
    "\n",
    "print(df)\n",
    "df.to_csv(\"iso.csv\", sep =\";\" index=False)"
   ]
  },
  {
   "cell_type": "code",
   "execution_count": 69,
   "metadata": {},
   "outputs": [
    {
     "ename": "KeyError",
     "evalue": "'chave'",
     "output_type": "error",
     "traceback": [
      "\u001b[1;31m---------------------------------------------------------------------------\u001b[0m",
      "\u001b[1;31mKeyError\u001b[0m                                  Traceback (most recent call last)",
      "File \u001b[1;32m~\\AppData\\Local\\Packages\\PythonSoftwareFoundation.Python.3.11_qbz5n2kfra8p0\\LocalCache\\local-packages\\Python311\\site-packages\\pandas\\core\\indexes\\base.py:3802\u001b[0m, in \u001b[0;36mIndex.get_loc\u001b[1;34m(self, key, method, tolerance)\u001b[0m\n\u001b[0;32m   3801\u001b[0m \u001b[39mtry\u001b[39;00m:\n\u001b[1;32m-> 3802\u001b[0m     \u001b[39mreturn\u001b[39;00m \u001b[39mself\u001b[39;49m\u001b[39m.\u001b[39;49m_engine\u001b[39m.\u001b[39;49mget_loc(casted_key)\n\u001b[0;32m   3803\u001b[0m \u001b[39mexcept\u001b[39;00m \u001b[39mKeyError\u001b[39;00m \u001b[39mas\u001b[39;00m err:\n",
      "File \u001b[1;32m~\\AppData\\Local\\Packages\\PythonSoftwareFoundation.Python.3.11_qbz5n2kfra8p0\\LocalCache\\local-packages\\Python311\\site-packages\\pandas\\_libs\\index.pyx:138\u001b[0m, in \u001b[0;36mpandas._libs.index.IndexEngine.get_loc\u001b[1;34m()\u001b[0m\n",
      "File \u001b[1;32m~\\AppData\\Local\\Packages\\PythonSoftwareFoundation.Python.3.11_qbz5n2kfra8p0\\LocalCache\\local-packages\\Python311\\site-packages\\pandas\\_libs\\index.pyx:165\u001b[0m, in \u001b[0;36mpandas._libs.index.IndexEngine.get_loc\u001b[1;34m()\u001b[0m\n",
      "File \u001b[1;32mpandas\\_libs\\hashtable_class_helper.pxi:5745\u001b[0m, in \u001b[0;36mpandas._libs.hashtable.PyObjectHashTable.get_item\u001b[1;34m()\u001b[0m\n",
      "File \u001b[1;32mpandas\\_libs\\hashtable_class_helper.pxi:5753\u001b[0m, in \u001b[0;36mpandas._libs.hashtable.PyObjectHashTable.get_item\u001b[1;34m()\u001b[0m\n",
      "\u001b[1;31mKeyError\u001b[0m: 'chave'",
      "\nThe above exception was the direct cause of the following exception:\n",
      "\u001b[1;31mKeyError\u001b[0m                                  Traceback (most recent call last)",
      "Cell \u001b[1;32mIn[69], line 2\u001b[0m\n\u001b[0;32m      1\u001b[0m df \u001b[39m=\u001b[39m pd\u001b[39m.\u001b[39mread_csv(\u001b[39m\"\u001b[39m\u001b[39miso.csv\u001b[39m\u001b[39m\"\u001b[39m)\n\u001b[1;32m----> 2\u001b[0m df \u001b[39m=\u001b[39m df\u001b[39m.\u001b[39;49mexplode(\u001b[39m'\u001b[39;49m\u001b[39mchave\u001b[39;49m\u001b[39m'\u001b[39;49m)\n\u001b[0;32m      3\u001b[0m df \u001b[39m=\u001b[39m df\u001b[39m.\u001b[39mfillna(\u001b[39m'\u001b[39m\u001b[39m'\u001b[39m)\n\u001b[0;32m      4\u001b[0m df[[\u001b[39m'\u001b[39m\u001b[39mISO\u001b[39m\u001b[39m'\u001b[39m, \u001b[39m'\u001b[39m\u001b[39mVERSAO\u001b[39m\u001b[39m'\u001b[39m]] \u001b[39m=\u001b[39m df[\u001b[39m'\u001b[39m\u001b[39mchave\u001b[39m\u001b[39m'\u001b[39m]\u001b[39m.\u001b[39mstr\u001b[39m.\u001b[39msplit(\u001b[39m'\u001b[39m\u001b[39m:\u001b[39m\u001b[39m'\u001b[39m, expand\u001b[39m=\u001b[39m\u001b[39mTrue\u001b[39;00m)\n",
      "File \u001b[1;32m~\\AppData\\Local\\Packages\\PythonSoftwareFoundation.Python.3.11_qbz5n2kfra8p0\\LocalCache\\local-packages\\Python311\\site-packages\\pandas\\core\\frame.py:9032\u001b[0m, in \u001b[0;36mDataFrame.explode\u001b[1;34m(self, column, ignore_index)\u001b[0m\n\u001b[0;32m   9030\u001b[0m df \u001b[39m=\u001b[39m \u001b[39mself\u001b[39m\u001b[39m.\u001b[39mreset_index(drop\u001b[39m=\u001b[39m\u001b[39mTrue\u001b[39;00m)\n\u001b[0;32m   9031\u001b[0m \u001b[39mif\u001b[39;00m \u001b[39mlen\u001b[39m(columns) \u001b[39m==\u001b[39m \u001b[39m1\u001b[39m:\n\u001b[1;32m-> 9032\u001b[0m     result \u001b[39m=\u001b[39m df[columns[\u001b[39m0\u001b[39;49m]]\u001b[39m.\u001b[39mexplode()\n\u001b[0;32m   9033\u001b[0m \u001b[39melse\u001b[39;00m:\n\u001b[0;32m   9034\u001b[0m     mylen \u001b[39m=\u001b[39m \u001b[39mlambda\u001b[39;00m x: \u001b[39mlen\u001b[39m(x) \u001b[39mif\u001b[39;00m is_list_like(x) \u001b[39melse\u001b[39;00m \u001b[39m-\u001b[39m\u001b[39m1\u001b[39m\n",
      "File \u001b[1;32m~\\AppData\\Local\\Packages\\PythonSoftwareFoundation.Python.3.11_qbz5n2kfra8p0\\LocalCache\\local-packages\\Python311\\site-packages\\pandas\\core\\frame.py:3807\u001b[0m, in \u001b[0;36mDataFrame.__getitem__\u001b[1;34m(self, key)\u001b[0m\n\u001b[0;32m   3805\u001b[0m \u001b[39mif\u001b[39;00m \u001b[39mself\u001b[39m\u001b[39m.\u001b[39mcolumns\u001b[39m.\u001b[39mnlevels \u001b[39m>\u001b[39m \u001b[39m1\u001b[39m:\n\u001b[0;32m   3806\u001b[0m     \u001b[39mreturn\u001b[39;00m \u001b[39mself\u001b[39m\u001b[39m.\u001b[39m_getitem_multilevel(key)\n\u001b[1;32m-> 3807\u001b[0m indexer \u001b[39m=\u001b[39m \u001b[39mself\u001b[39;49m\u001b[39m.\u001b[39;49mcolumns\u001b[39m.\u001b[39;49mget_loc(key)\n\u001b[0;32m   3808\u001b[0m \u001b[39mif\u001b[39;00m is_integer(indexer):\n\u001b[0;32m   3809\u001b[0m     indexer \u001b[39m=\u001b[39m [indexer]\n",
      "File \u001b[1;32m~\\AppData\\Local\\Packages\\PythonSoftwareFoundation.Python.3.11_qbz5n2kfra8p0\\LocalCache\\local-packages\\Python311\\site-packages\\pandas\\core\\indexes\\base.py:3804\u001b[0m, in \u001b[0;36mIndex.get_loc\u001b[1;34m(self, key, method, tolerance)\u001b[0m\n\u001b[0;32m   3802\u001b[0m     \u001b[39mreturn\u001b[39;00m \u001b[39mself\u001b[39m\u001b[39m.\u001b[39m_engine\u001b[39m.\u001b[39mget_loc(casted_key)\n\u001b[0;32m   3803\u001b[0m \u001b[39mexcept\u001b[39;00m \u001b[39mKeyError\u001b[39;00m \u001b[39mas\u001b[39;00m err:\n\u001b[1;32m-> 3804\u001b[0m     \u001b[39mraise\u001b[39;00m \u001b[39mKeyError\u001b[39;00m(key) \u001b[39mfrom\u001b[39;00m \u001b[39merr\u001b[39;00m\n\u001b[0;32m   3805\u001b[0m \u001b[39mexcept\u001b[39;00m \u001b[39mTypeError\u001b[39;00m:\n\u001b[0;32m   3806\u001b[0m     \u001b[39m# If we have a listlike key, _check_indexing_error will raise\u001b[39;00m\n\u001b[0;32m   3807\u001b[0m     \u001b[39m#  InvalidIndexError. Otherwise we fall through and re-raise\u001b[39;00m\n\u001b[0;32m   3808\u001b[0m     \u001b[39m#  the TypeError.\u001b[39;00m\n\u001b[0;32m   3809\u001b[0m     \u001b[39mself\u001b[39m\u001b[39m.\u001b[39m_check_indexing_error(key)\n",
      "\u001b[1;31mKeyError\u001b[0m: 'chave'"
     ]
    }
   ],
   "source": [
    "df = pd.read_csv(\"iso.csv\")\n",
    "df = df.explode('chave')\n",
    "df = df.fillna('')\n",
    "df[['ISO', 'VERSAO']] = df['chave'].str.split(':', expand=True)\n",
    "df[['colunaex','IDIOMA']] = df['chave'].str.split('(', expand=True)\n",
    "df['ISO'] = df['ISO'].str.split('(', n=1).str.get(0)\n",
    "df['VERSAO'] = df['VERSAO'].str.split('(', n=1).str.get(0)\n",
    "df['IDIOMA'] = df['IDIOMA'].str.split(')', n=1).str.get(0)\n",
    "df = df.drop('chave', axis=1)\n",
    "df = df.drop('colunaex', axis=1)\n",
    "df\n",
    "df.to_csv(\"iso.csv\", sep =\";\", index=False)\n",
    "\n"
   ]
  }
 ],
 "metadata": {
  "kernelspec": {
   "display_name": "Python 3",
   "language": "python",
   "name": "python3"
  },
  "language_info": {
   "codemirror_mode": {
    "name": "ipython",
    "version": 3
   },
   "file_extension": ".py",
   "mimetype": "text/x-python",
   "name": "python",
   "nbconvert_exporter": "python",
   "pygments_lexer": "ipython3",
   "version": "3.11.2"
  },
  "orig_nbformat": 4
 },
 "nbformat": 4,
 "nbformat_minor": 2
}
